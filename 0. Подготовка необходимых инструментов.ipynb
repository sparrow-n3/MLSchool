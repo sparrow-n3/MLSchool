{
 "cells": [
  {
   "cell_type": "markdown",
   "metadata": {},
   "source": [
    "# Установка Python 3"
   ]
  },
  {
   "cell_type": "markdown",
   "metadata": {},
   "source": [
    "## Windows"
   ]
  },
  {
   "cell_type": "markdown",
   "metadata": {},
   "source": [
    "__Python__ можно поставить [отсюда](https://www.python.org/downloads/). Нам нужна версия __3.6.1__.\n",
    "\n",
    "В процессе установки соглашаемся закинуть путь к Python в __path__.\n",
    "\n",
    "Убеждаемся, что все нормально после установки. Открываем командную строку (_cmd_), в ней пишем:"
   ]
  },
  {
   "cell_type": "markdown",
   "metadata": {},
   "source": [
    "```python\n",
    "=> python3 -V\n",
    "Python 3.6.1\n",
    "\n",
    "=> python3\n",
    "Python 3.6.0 (default, Dec 24 2016, 08:01:42) \n",
    "[GCC 4.2.1 Compatible Apple LLVM 8.0.0 (clang-800.0.42.1)] on darwin\n",
    "Type \"help\", \"copyright\", \"credits\" or \"license\" for more information.\n",
    ">>> 2+2\n",
    "4\n",
    ">>>\n",
    "```"
   ]
  },
  {
   "cell_type": "markdown",
   "metadata": {},
   "source": [
    "После этого важно еще обвешать наш Python полезными библиотечками (в простонародье \"пакетами\"). Пакеты на Windows можно ставить через родной менеджер пакетов Python - __pip __, - но можно и воспользоваться более надежной альтернативой: __Anaconda__.\n",
    "\n",
    "Кстати, проверьте имя текущего пользователя: известен баг, когда __pip__ не может установить пакеты из-за наличия в имени русских символов. "
   ]
  },
  {
   "cell_type": "markdown",
   "metadata": {},
   "source": [
    "### Anaconda"
   ]
  },
  {
   "cell_type": "markdown",
   "metadata": {},
   "source": [
    "Качается Anaconda [здесь](https://www.continuum.io/downloads). Вам нужна версия под Python __3.6__ и \"__64-bit__ installer\".\n",
    "\n",
    "Дальше все просто: как вы и привыкли в Windows, _\"Далее\", \"Далее\", \"Готово\"_. Но лучше подглядывать в [инструкцию по установке](https://docs.continuum.io/anaconda/install-windows.html)."
   ]
  },
  {
   "cell_type": "markdown",
   "metadata": {},
   "source": [
    "## Ubuntu"
   ]
  },
  {
   "cell_type": "markdown",
   "metadata": {},
   "source": [
    "На __Ubuntu__ Python уже предустановлен. Но есть нюанс: в зависимости от версии системы версия предустановленного Python отличается."
   ]
  },
  {
   "cell_type": "markdown",
   "metadata": {},
   "source": [
    "### Ubuntu >= 16.10"
   ]
  },
  {
   "cell_type": "markdown",
   "metadata": {},
   "source": [
    "У вас должна уже стоять необходимая третья версия Python. \n",
    "\n",
    "Проверьте это, выполнив в терминале команду `python3`: должен возникнуть интерпретатор третьего питона. Если это не произошло, установите python 3:"
   ]
  },
  {
   "cell_type": "markdown",
   "metadata": {},
   "source": [
    "```python\n",
    "sudo apt-get update\n",
    "sudo apt-get install python3.6\n",
    "```"
   ]
  },
  {
   "cell_type": "markdown",
   "metadata": {},
   "source": [
    "### Ubuntu < 16.10"
   ]
  },
  {
   "cell_type": "markdown",
   "metadata": {},
   "source": [
    "Открываем терминал, выполняем:"
   ]
  },
  {
   "cell_type": "markdown",
   "metadata": {},
   "source": [
    "```python\n",
    "sudo add-apt-repository ppa:jonathonf/python-3.6\n",
    "sudo apt-get update\n",
    "sudo apt-get install python3.6\n",
    "```"
   ]
  },
  {
   "cell_type": "markdown",
   "metadata": {},
   "source": [
    "Если это почему-то не сработало, альтернативный вариант:"
   ]
  },
  {
   "cell_type": "markdown",
   "metadata": {},
   "source": [
    "```python\n",
    "sudo add-apt-repository ppa:fkrull/deadsnakes\n",
    "sudo apt-get update\n",
    "sudo apt-get install python3.6\n",
    "```"
   ]
  },
  {
   "cell_type": "markdown",
   "metadata": {},
   "source": [
    "### Pip"
   ]
  },
  {
   "cell_type": "markdown",
   "metadata": {},
   "source": [
    "Установим __pip__:"
   ]
  },
  {
   "cell_type": "markdown",
   "metadata": {},
   "source": [
    "```python\n",
    "sudo apt-get install python3-pip\n",
    "```"
   ]
  },
  {
   "cell_type": "markdown",
   "metadata": {},
   "source": [
    "## Mac OS X"
   ]
  },
  {
   "cell_type": "markdown",
   "metadata": {},
   "source": [
    "С Mac OS X уже идет Python, но, опять же, второй версии, которая нам не очень подходит. \n",
    "\n",
    "Будем устанавливать через __brew__."
   ]
  },
  {
   "cell_type": "markdown",
   "metadata": {},
   "source": [
    "Проверьте, что brew установлен: `brew --version`. Если выяснилось, что его нет, устанавливается он просто:"
   ]
  },
  {
   "cell_type": "markdown",
   "metadata": {},
   "source": [
    "```python\n",
    "ruby -e \"$(curl -fsSkL raw.github.com/mxcl/homebrew/go)\"\n",
    "```"
   ]
  },
  {
   "cell_type": "markdown",
   "metadata": {},
   "source": [
    "Дальше все еще проще:"
   ]
  },
  {
   "cell_type": "markdown",
   "metadata": {},
   "source": [
    "```python\n",
    "brew install python3\n",
    "```"
   ]
  },
  {
   "cell_type": "markdown",
   "metadata": {},
   "source": [
    "### Pip"
   ]
  },
  {
   "cell_type": "markdown",
   "metadata": {},
   "source": [
    "В качестве менеджера зависимостей будем использовать __pip__. Brew устанавливает и его при установке python3."
   ]
  },
  {
   "cell_type": "markdown",
   "metadata": {},
   "source": [
    "# Установка необходимых пакетов"
   ]
  },
  {
   "cell_type": "markdown",
   "metadata": {},
   "source": [
    "Открываем снова __cmd__.\n",
    "\n",
    "Синтаксис очень прост: \n",
    "* `python3 -m pip install <название пакета или пакетов (через пробел)>` - если вы решили использовать __pip__;\n",
    "* `conda install <название пакета или пакетов (через пробел)>` - если вы установили __Anaconda__."
   ]
  },
  {
   "cell_type": "markdown",
   "metadata": {},
   "source": [
    "Нам нужно сразу много. Список я приготовил, можете просто копировать из ячеек ниже:"
   ]
  },
  {
   "cell_type": "markdown",
   "metadata": {},
   "source": [
    "```python\n",
    "python3 -m pip install numpy scipy pandas sklearn matplotlib eli5 seaborn toolz sciplot xgboost statsmodels pymorphy2 minepy\n",
    "```"
   ]
  },
  {
   "cell_type": "markdown",
   "metadata": {},
   "source": [
    "```python\n",
    "conda install numpy scipy pandas sklearn matplotlib eli5 seaborn toolz sciplot xgboost statsmodels pymorphy2 minepy\n",
    "```"
   ]
  },
  {
   "cell_type": "markdown",
   "metadata": {},
   "source": [
    "# Jupyter notebook"
   ]
  },
  {
   "cell_type": "markdown",
   "metadata": {},
   "source": [
    "Работать мы будем, конечно, не в терминале, а в среде под названием [__Jupyter notebook__](http://jupyter.org). Мамкиных грамотеев, которые скажут, что _\"Юпитер\"_ пишется как _\"Jupiter\"_, спешу разочаровать: _Jupyter_ - акроним, образовавшийся от сочетания названий поддерживаемых языков: __Ju__-lia, __Pyt__-hon и __R__."
   ]
  },
  {
   "cell_type": "markdown",
   "metadata": {},
   "source": [
    "Если вы используете __Anaconda__, то ничего на этом шаге делать не нужно: Jupyter __уже установлен__.\n",
    "\n",
    "Если же выбор пал на __pip__, то сделать нужно совсем немного:"
   ]
  },
  {
   "cell_type": "markdown",
   "metadata": {},
   "source": [
    "```python\n",
    "python3 -m pip install --upgrade pip\n",
    "python3 -m pip install jupyter\n",
    "```"
   ]
  },
  {
   "cell_type": "markdown",
   "metadata": {},
   "source": [
    "# Проверим, что все работает"
   ]
  },
  {
   "cell_type": "markdown",
   "metadata": {},
   "source": [
    "Открываем терминал или cmd, и пишем там:"
   ]
  },
  {
   "cell_type": "markdown",
   "metadata": {},
   "source": [
    "```python\n",
    "jupyter notebook\n",
    "```"
   ]
  },
  {
   "cell_type": "markdown",
   "metadata": {},
   "source": [
    "Если все хорошо, то запустится сервис jupyter, и в вашем браузере по умолчанию откроется новая вкладка. В местном explorer'е вы также можете переходить по папкам; создавать, удалять  и копировать файлы. \n",
    "\n",
    "Создайте где-нибудь тетрадь:"
   ]
  },
  {
   "cell_type": "markdown",
   "metadata": {},
   "source": [
    "<img src=\"images/creatingNotebook.png\" width=\"25%\">"
   ]
  },
  {
   "cell_type": "markdown",
   "metadata": {
    "ExecuteTime": {
     "end_time": "2017-06-15T13:24:31.612474",
     "start_time": "2017-06-15T13:24:31.599204"
    }
   },
   "source": [
    "Скопируйте в ячейку следующий код:"
   ]
  },
  {
   "cell_type": "code",
   "execution_count": 1,
   "metadata": {
    "ExecuteTime": {
     "end_time": "2017-07-17T13:19:11.458677",
     "start_time": "2017-07-17T13:19:10.555009"
    },
    "collapsed": false
   },
   "outputs": [],
   "source": [
    "import numpy, scipy, pandas, sklearn, matplotlib, eli5, seaborn, toolz, scikitplot, xgboost, statsmodels, pymorphy2, minepy"
   ]
  },
  {
   "cell_type": "markdown",
   "metadata": {},
   "source": [
    "Выполните ее: нажмите __Shift + Enter__. В результате не должно возникнуть ошибок."
   ]
  },
  {
   "cell_type": "markdown",
   "metadata": {},
   "source": [
    "На этом настройка завершена и вы готовы продолжать."
   ]
  }
 ],
 "metadata": {
  "kernelspec": {
   "display_name": "Python 3",
   "language": "python",
   "name": "python3"
  },
  "language_info": {
   "codemirror_mode": {
    "name": "ipython",
    "version": 3
   },
   "file_extension": ".py",
   "mimetype": "text/x-python",
   "name": "python",
   "nbconvert_exporter": "python",
   "pygments_lexer": "ipython3",
   "version": "3.6.0"
  },
  "toc": {
   "colors": {
    "hover_highlight": "#DAA520",
    "running_highlight": "#FF0000",
    "selected_highlight": "#FFD700"
   },
   "moveMenuLeft": true,
   "nav_menu": {
    "height": "228px",
    "width": "252px"
   },
   "navigate_menu": true,
   "number_sections": true,
   "sideBar": true,
   "threshold": 4,
   "toc_cell": false,
   "toc_section_display": "block",
   "toc_window_display": false
  }
 },
 "nbformat": 4,
 "nbformat_minor": 2
}
