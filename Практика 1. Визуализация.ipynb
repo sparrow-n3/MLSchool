{
 "cells": [
  {
   "cell_type": "code",
   "execution_count": 1,
   "metadata": {
    "ExecuteTime": {
     "end_time": "2017-07-18T14:27:47.297282",
     "start_time": "2017-07-18T14:27:47.292294"
    },
    "collapsed": true
   },
   "outputs": [],
   "source": [
    "pd.options.display.max_columns = 200"
   ]
  },
  {
   "cell_type": "code",
   "execution_count": 7,
   "metadata": {
    "ExecuteTime": {
     "end_time": "2017-07-18T14:31:28.139430",
     "start_time": "2017-07-18T14:31:28.132491"
    },
    "collapsed": false
   },
   "outputs": [],
   "source": [
    "df = pd.read_csv('data/GoT/battles.csv')"
   ]
  },
  {
   "cell_type": "markdown",
   "metadata": {},
   "source": [
    "<img src=\"images/winterIsComing.jpg\">"
   ]
  },
  {
   "cell_type": "markdown",
   "metadata": {},
   "source": [
    "<div class=\"panel panel-info\" style=\"margin: 50px 0 0 0\">\n",
    "    <div class=\"panel-heading\">\n",
    "        <h3 class=\"panel-title\">Задание 1: Самые агрессивные и самые забитые</h3> \n",
    "    </div>\n",
    "</div>\n",
    "\n",
    "Постройте <b>bar chart</b>, отражающий количества битв каждой из семей, сначала нарисуйте всех аттакующих, а на другой график поместите защищающихся. Столбцы должны быть отсортированы.\n",
    "<br><br>\n",
    "Выясните, кто нападал чаще всех и кому приходилось отбиваться чаще всех."
   ]
  },
  {
   "cell_type": "code",
   "execution_count": 3,
   "metadata": {
    "ExecuteTime": {
     "end_time": "2017-07-18T14:27:48.235694",
     "start_time": "2017-07-18T14:27:48.232792"
    },
    "collapsed": true
   },
   "outputs": [],
   "source": [
    "# Ваш код здесь"
   ]
  },
  {
   "cell_type": "markdown",
   "metadata": {},
   "source": [
    "<div class=\"panel panel-info\" style=\"margin: 50px 0 0 0\">\n",
    "    <div class=\"panel-heading\">\n",
    "        <h3 class=\"panel-title\">Задание 2: Кто дерется лучше всех?</h3> \n",
    "    </div>\n",
    "</div>\n",
    "\n",
    "Правильно сосчитайте количество побед и поражений у каждого из королей (__attacker_king__, __defender_king__).\n",
    "\n",
    "Покажите их статистику как stacked bar plot, отсортировав столбцы по общему количество сражений."
   ]
  },
  {
   "cell_type": "code",
   "execution_count": 4,
   "metadata": {
    "ExecuteTime": {
     "end_time": "2017-07-18T14:27:49.027986",
     "start_time": "2017-07-18T14:27:49.024983"
    },
    "collapsed": true
   },
   "outputs": [],
   "source": [
    "# Ваш код здесь"
   ]
  },
  {
   "cell_type": "markdown",
   "metadata": {},
   "source": [
    "<div class=\"panel panel-info\" style=\"margin: 50px 0 0 0\">\n",
    "    <div class=\"panel-heading\">\n",
    "        <h3 class=\"panel-title\">Задание 3: Земля, залитая кровью</h3> \n",
    "    </div>\n",
    "</div>\n",
    "\n",
    "Представим, что в битве столкнулись отряды в 5000 и 15000 человек. Будем считать потери равными <i>2*min(5000, 15000) = 10000</i>. То есть, грубо говоря, всегда побеждает большинство, но из меньшей армии солдат с собой унесет еще хотя бы одного.\n",
    "\n",
    "Теперь, зная, как высчитывать потери после боя, выясните, в каком конкретно регионе (__region__) и на какой местности (__location__) полегло больше людишек. Два графика: один - по регионам, второй - по месностям.\n",
    "\n",
    "Проиллюстрируйте результаты с помощью __pie chart__."
   ]
  },
  {
   "cell_type": "code",
   "execution_count": 5,
   "metadata": {
    "ExecuteTime": {
     "end_time": "2017-07-18T14:27:50.179756",
     "start_time": "2017-07-18T14:27:50.176628"
    },
    "collapsed": true
   },
   "outputs": [],
   "source": [
    "# Ваш код здесь"
   ]
  }
 ],
 "metadata": {
  "kernelspec": {
   "display_name": "Python 3",
   "language": "python",
   "name": "python3"
  },
  "language_info": {
   "codemirror_mode": {
    "name": "ipython",
    "version": 3
   },
   "file_extension": ".py",
   "mimetype": "text/x-python",
   "name": "python",
   "nbconvert_exporter": "python",
   "pygments_lexer": "ipython3",
   "version": "3.6.0"
  },
  "toc": {
   "colors": {
    "hover_highlight": "#DAA520",
    "running_highlight": "#FF0000",
    "selected_highlight": "#FFD700"
   },
   "moveMenuLeft": true,
   "nav_menu": {
    "height": "12px",
    "width": "252px"
   },
   "navigate_menu": true,
   "number_sections": true,
   "sideBar": true,
   "threshold": 4,
   "toc_cell": false,
   "toc_section_display": "block",
   "toc_window_display": false
  }
 },
 "nbformat": 4,
 "nbformat_minor": 2
}
