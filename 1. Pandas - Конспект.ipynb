{
 "cells": [
  {
   "cell_type": "markdown",
   "metadata": {},
   "source": [
    "<div class=\"panel panel-info\" style=\"margin: 50px 0 0 0\">\n",
    "    <div class=\"panel-heading\">\n",
    "        <h3 class=\"panel-title\">Еще раз!</h3> \n",
    "    </div>\n",
    "    <ol>\n",
    "        <li><b>df.shape</b> - размер\n",
    "        <li><b>df.head(</b><i>N</i><b>)</b>, <b>df.tail(</b><i>N</i><b>)</b>, - просмотр\n",
    "        <li><b>df[</b><i>массив имен колонок</i><b>]</b> - часть (slice) датафрейма\n",
    "        <li><b>df['</b><i>имя колонки</i><b>']</b> - одна колонка (можно и через точку: <b>df.</b><i>имя_колонки</i>)\n",
    "        <li><b>df.unique</b>, <b>df.nunique</b> - просмотр уникальных значений и их количества\n",
    "        <li><b>df.value_counts</b> - сколько разных значений в колонке\n",
    "        <li><b>df.</b><i>имя колонки</i><b>.apply</b> - применяет функцию к значениям в столбце\n",
    "        <li><b>df.fillna</b> - заполняет NaN\n",
    "        <li><b>df.dropna</b> - удаляет строки/столбцы с NaN\n",
    "        <li><b>df.duplicated</b> - показывает строки, являющиеся дупликатами других\n",
    "        <li><b>df.drop_duplicate</b> - удаляет строки-дупликаты\n",
    "        <li><b>df[df.isnull().any(axis=1)]</b> - вывести строки, содержащие NaN\n",
    "        <li><b>df[df.</b><i>имя колонки</i><b>.isnull().any(axis=1)]</b> - вывести только те строки, где в указанной колонке есть пропуски\n",
    "        <li><b>df.groupby</b> - группировка по некоторому признаку\n",
    "    </ol>\n",
    "</div>"
   ]
  }
 ],
 "metadata": {
  "kernelspec": {
   "display_name": "Python 3",
   "language": "python",
   "name": "python3"
  },
  "language_info": {
   "codemirror_mode": {
    "name": "ipython",
    "version": 3
   },
   "file_extension": ".py",
   "mimetype": "text/x-python",
   "name": "python",
   "nbconvert_exporter": "python",
   "pygments_lexer": "ipython3",
   "version": "3.6.0"
  },
  "toc": {
   "colors": {
    "hover_highlight": "#DAA520",
    "running_highlight": "#FF0000",
    "selected_highlight": "#FFD700"
   },
   "moveMenuLeft": true,
   "nav_menu": {
    "height": "30px",
    "width": "252px"
   },
   "navigate_menu": true,
   "number_sections": false,
   "sideBar": true,
   "threshold": 4,
   "toc_cell": false,
   "toc_section_display": "block",
   "toc_window_display": false
  }
 },
 "nbformat": 4,
 "nbformat_minor": 2
}
